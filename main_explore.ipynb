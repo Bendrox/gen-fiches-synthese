{
 "cells": [
  {
   "cell_type": "markdown",
   "id": "f34b6dba",
   "metadata": {},
   "source": [
    "## 1. Models"
   ]
  },
  {
   "cell_type": "code",
   "execution_count": 1,
   "id": "0dca4223",
   "metadata": {},
   "outputs": [],
   "source": [
    "from langchain_openai import AzureChatOpenAI\n",
    "import os\n",
    "from dotenv import load_dotenv\n",
    "\n",
    "\n",
    "gpt4o = AzureChatOpenAI(\n",
    "    azure_deployment=\"gpt-4o\",  # or your deployment\n",
    "    api_version=\"2024-12-01-preview\",  # or your api version\n",
    "    temperature=0,\n",
    "    max_tokens=None,\n",
    "    timeout=None,\n",
    "    max_retries=2,\n",
    "    # other params...x\n",
    ")"
   ]
  },
  {
   "cell_type": "code",
   "execution_count": 16,
   "id": "bea2d174",
   "metadata": {},
   "outputs": [],
   "source": [
    "gpt41 = AzureChatOpenAI(\n",
    "    azure_deployment=\"gpt-4.1\",  # or your deployment\n",
    "    api_version=\"2024-12-01-preview\",  # or your api version\n",
    "    temperature=0,\n",
    "    max_tokens=None,\n",
    "    timeout=None,\n",
    "    max_retries=2,\n",
    "    # other params...x\n",
    ")"
   ]
  },
  {
   "cell_type": "code",
   "execution_count": null,
   "id": "da20c317",
   "metadata": {},
   "outputs": [
    {
     "data": {
      "text/plain": [
       "'The capital of France is **Paris**.'"
      ]
     },
     "execution_count": 17,
     "metadata": {},
     "output_type": "execute_result"
    }
   ],
   "source": [
    "resultat= gpt4o.invoke(\"capital of France ?\")\n",
    "resultat.content   "
   ]
  },
  {
   "cell_type": "code",
   "execution_count": null,
   "id": "8df855f5",
   "metadata": {},
   "outputs": [
    {
     "data": {
      "text/plain": [
       "'The capital of France is **Paris**.'"
      ]
     },
     "execution_count": 18,
     "metadata": {},
     "output_type": "execute_result"
    }
   ],
   "source": [
    "resultat= gpt41.invoke(\"capital of France ?\")\n",
    "resultat.content   "
   ]
  },
  {
   "cell_type": "markdown",
   "id": "73bd2cd3",
   "metadata": {},
   "source": [
    "## 2. Data ingestion "
   ]
  },
  {
   "cell_type": "markdown",
   "id": "621ef038",
   "metadata": {},
   "source": [
    "### 2.1 Functions"
   ]
  },
  {
   "cell_type": "code",
   "execution_count": 3,
   "id": "8739b49b",
   "metadata": {},
   "outputs": [],
   "source": [
    "import tiktoken\n",
    "def count_token(string: str, encoding_name: str) -> int:\n",
    "    \"\"\"Returns the number of tokens in a text string.\"\"\"\n",
    "    encoding = tiktoken.get_encoding(encoding_name)\n",
    "    num_tokens = len(encoding.encode(string))\n",
    "    return print(f\"Nombre de token: {num_tokens}\") "
   ]
  },
  {
   "cell_type": "code",
   "execution_count": 4,
   "id": "d2603240",
   "metadata": {},
   "outputs": [],
   "source": [
    "def save_docintel_tolocal_file(input_variable: str, nom_fichier_output: str): \n",
    "    with open(f\"/Users/oussa/Desktop/Github_perso/fds/gen-fiches-synthese/doc_intel_output/{nom_fichier_output}.txt\", \"w\") as text_file:\n",
    "        text_file.write(input_variable)"
   ]
  },
  {
   "cell_type": "code",
   "execution_count": 11,
   "id": "3c61f830",
   "metadata": {},
   "outputs": [],
   "source": [
    "def save_llm_ouput_tolocal_file(input_variable: str, nom_fichier_output: str, version: int): \n",
    "    with open(f\"/Users/oussa/Desktop/Github_perso/fds/gen-fiches-synthese/llm_output/{nom_fichier_output}_version_{version}.txt\", \"w\") as text_file:\n",
    "        text_file.write(input_variable)"
   ]
  },
  {
   "cell_type": "code",
   "execution_count": 6,
   "id": "fa22d3b2",
   "metadata": {},
   "outputs": [],
   "source": [
    "def mrkw_file_to_var(fichier_nom:str):\n",
    "    with open(f\"/Users/oussa/Desktop/Github_perso/fds/gen-fiches-synthese/doc_intel_output/{fichier_nom}.txt\", \"r\") as f:\n",
    "        resultat = f.read()\n",
    "    return resultat"
   ]
  },
  {
   "cell_type": "code",
   "execution_count": null,
   "id": "d12652d3",
   "metadata": {},
   "outputs": [],
   "source": [
    "from azure.core.credentials import AzureKeyCredential\n",
    "from azure.ai.documentintelligence import DocumentIntelligenceClient\n",
    "from azure.ai.documentintelligence.models import AnalyzeDocumentRequest, AnalyzeResult\n",
    "\n",
    "\n",
    "def url_to_mrkdwn_docintel(url: str):\n",
    "    \"\"\"Convert URL file to markdown avec Document intelligence \n",
    "\n",
    "    Args:\n",
    "        url (str): URL du fichier a convertir \n",
    "\n",
    "    Returns:\n",
    "        str: Output content of the file\n",
    "    \"\"\"\n",
    "    client = DocumentIntelligenceClient(\n",
    "    endpoint=os.getenv(\"AZ_DOCINTEL_ENDPOINT\") ,\n",
    "    credential=AzureKeyCredential(os.getenv(\"AZ_DOCINTEL_KEY\")),\n",
    "    api_version=\"2024-11-30\")\n",
    "    \n",
    "    poller = client.begin_analyze_document(\n",
    "        \"prebuilt-layout\", AnalyzeDocumentRequest(url_source=url),  \n",
    "        output_content_format=\"markdown\"\n",
    "    )\n",
    "    receipts : AnalyzeResult = poller.result()\n",
    "    return receipts.content"
   ]
  },
  {
   "cell_type": "markdown",
   "id": "626e4142",
   "metadata": {},
   "source": [
    "### 2.2 Apply"
   ]
  },
  {
   "cell_type": "code",
   "execution_count": null,
   "id": "0fbf06fa",
   "metadata": {},
   "outputs": [],
   "source": [
    "# Cas 1: nouveau donc transformation + enregistrement : \n",
    "output_doctintel=url_to_mrkdwn_docintel(\"https://www.areas.fr/medias/fichiers/sfcr_areas_vie_2024.pdf\")\n",
    "save_docintel_tolocal_file(output_doctintel, \"SFCR_areas_vie_2024_mrkdwn\")\n",
    "count_token(output_doctintel, \"o200k_base\")\n",
    "# \"https://www.areas.fr/medias/fichiers/sfcr_areas_dommages_2024.pdf\""
   ]
  },
  {
   "cell_type": "code",
   "execution_count": 8,
   "id": "f940dc6d",
   "metadata": {},
   "outputs": [
    {
     "name": "stdout",
     "output_type": "stream",
     "text": [
      "Nombre de token: 79902\n"
     ]
    }
   ],
   "source": [
    "# Cas 2: existe donc charge:\n",
    "resultat_areas_vie_24=mrkw_file_to_var(\"SFCR_areas_vie_2024_mrkdwn\")\n",
    "resultat_areas_dmg_24=mrkw_file_to_var(\"SFCR_areas_dmg_2024_mrkwdn\")\n",
    "count_token(resultat_areas_dmg_24, \"o200k_base\")\n"
   ]
  },
  {
   "cell_type": "markdown",
   "id": "6f24a7eb",
   "metadata": {},
   "source": [
    "## 3 - llm output"
   ]
  },
  {
   "cell_type": "markdown",
   "id": "60001d09",
   "metadata": {},
   "source": [
    "### 3.1 - Method 1 (fenetre contextuelle)"
   ]
  },
  {
   "cell_type": "code",
   "execution_count": null,
   "id": "e0732ed2",
   "metadata": {},
   "outputs": [],
   "source": [
    "def fiche(input_variable_content:str , model): # gpt41 ou \n",
    "    SFCR_choisi=input_variable_content\n",
    "\n",
    "    prompt = f\"\"\"Tu es un assistant expert dans le domaine financier et en assurance. \n",
    "    Ta tache : \n",
    "    - Extraire le maximum d informations à partir d'un texte tout en gardant du détail et les lier pour en faire un paragraphe qui correspond a chaque partie. \n",
    "    - Ces informations sont généralement des chiffres, des montants, des pourcentages, des tendances, des explications sur les changements et les évolutions, des dates sur les thématiques suivantes:\n",
    "    \n",
    "    -Présentation de l'organisme (tous les sujets relatif a : activités, histoire de création, nombre d'assurés, branche d'assurance,  secteurs d'activité, nombre d'assurés ou de sociétaires ).\n",
    "    -Activité de l'organisme (tous les sujets relatif a :Chiffre d'affaires, primes, Résultat technique, Résultat financier, Résultat net après impôts).\n",
    "    -Provisionnement (tous les sujets relatif a :  provisions techniques en valeur IFRS et Solvabilité II / 2 , la PREC ou provisions pour risques en cours des PSAP ou provisions pour sinistres a payer et des PPNA ou provisions pour primes non acquises ).\n",
    "    -Solvabilité (tous les sujets relatif a : SCR, modèle interne , formule standard ,  capital de solvabilité requis, ratio de solvabilité , fonds propres , pourcentage et montants de répartition du SCR par catégorie ).\n",
    "    -Placements autres que les actifs en represenation de contrats en UC ou indexe (tous les sujets relatif a : placements en valeur de marché , placements en valeur comptable, évolution de la valeur des placements , performances des placements, Répartition des placements par classe d'actifs).\n",
    "    -Changement de la gouvernance (tous les sujets relatif a : Changement de gouvernance, nomination d'un dirigeant , nouveau mandat , renouvellement de mandat ).\n",
    "    -Perspectives et vision de l'organisme et projets futurs et de développement (tous les sujets relatif a : Les projets futurs de développement, la stratégie ).\n",
    "\n",
    "    #Règles: \n",
    "    - Tu ne dois pas modifier les valeurs des données financières (exemple: Chiffres d'affaires, pourcentages, taux, montants, ratio de solvabilité, ratio de couverture du SCR etc)\n",
    "    - Tu t appuiyera exclusivement sur les informations dans le texte fourni pour extraire les indicateurs financièrs et les explications des évolutions de ces indicateurs.\n",
    "    - Tu ne rajoutes pas d informations sur la base de tes connaissances\n",
    "    - Tu t appuiyera au maximum sur les chiffres a chaque fois que tu donnes des informations. Si tu ne les trouves pas tu n inventes pas.\n",
    "    - Pas la peine d'extraire les informations relatives a la conformité ( exemple a une directive ou au Règlement délégué )\n",
    "\n",
    "    Fais cet exercice tel que je l'ai décrit pour le texte suivant:{SFCR_choisi}\"\"\"\n",
    "    response = model.invoke(prompt)\n",
    "    return response.content"
   ]
  },
  {
   "cell_type": "code",
   "execution_count": null,
   "id": "6e8ba7fa",
   "metadata": {},
   "outputs": [
    {
     "data": {
      "text/plain": [
       "\"### Présentation de l'organisme\\n\\nAréas Dommages est une Société d'Assurance Mutuelle à cotisations fixes, régie par le Code des Assurances et immatriculée sous le numéro 775 670 466. Son siège social est situé au 47/49 rue de Miromesnil, 75008 Paris. Elle est la tête du groupe indépendant Aréas Assurances, qui constitue le 7ème réseau d'agents généraux en France. L'organisme exerce toutes les opérations d'assurance dommage en France, y compris dans les départements d'outre-mer et en Polynésie française. Le groupe inclut plusieurs entités, telles qu'Aréas Vie, Audassur SARL, et Gemma Participations SAS, couvrant des activités variées comme l'assurance vie, le courtage, et la gestion immobilière. En 2024, Aréas Dommages a généré un chiffre d'affaires de 641,6 millions d'euros, soit une croissance de 7,7 % par rapport à 2023. Les assurances automobiles et dommages aux biens représentent 68,2 % de l'activité.\\n\\n---\\n\\n### Activité de l'organisme\\n\\nLe chiffre d'affaires brut d'Aréas Dommages en 2024 s'élève à 641,6 millions d'euros, en hausse de 7,7 % par rapport à 2023 (595,6 millions d'euros). Les primes acquises nettes de réassurance ont progressé de 12,7 %, atteignant 587,8 millions d'euros. Les primes cédées aux réassureurs ont diminué de 22,1 %, passant de 63,8 millions d'euros en 2023 à 49,7 millions d'euros en 2024. Le résultat technique après produits financiers s'élève à 25,4 millions d'euros, en hausse de 14,6 % par rapport à 2023 (22,2 millions d'euros). Le ratio combiné net de réassurance s'est dégradé, atteignant 101,4 % en 2024 contre 99,4 % en 2023. Les produits des placements alloués ont augmenté de 76,5 %, passant de 19,1 millions d'euros en 2023 à 33,6 millions d'euros en 2024.\\n\\n---\\n\\n### Provisionnement\\n\\nLes provisions techniques brutes d'Aréas Dommages au 31 décembre 2024 s'élèvent à 1 076,5 millions d'euros, incluant une meilleure estimation (Best Estimate) de 904,2 millions d'euros et une marge de risque de 78,0 millions d'euros. Les provisions pour sinistres à payer (PSAP) représentent 746,5 millions d'euros, tandis que les provisions pour primes non acquises (PPNA) atteignent 97,7 millions d'euros. La provision complémentaire pour inflation, introduite en 2022, a été réduite à 3,5 millions d'euros en 2024, contre 31,5 millions d'euros en 2023. Les provisions cédées aux réassureurs sont évaluées à 122,5 millions d'euros.\\n\\n---\\n\\n### Solvabilité\\n\\nLe ratio de solvabilité d'Aréas Dommages au 31 décembre 2024 est de 211 %, avec des fonds propres éligibles de 687,6 millions d'euros et un capital de solvabilité requis (SCR) de 325,4 millions d'euros. Le minimum de capital requis (MCR) est de 133,9 millions d'euros, avec un ratio de couverture de 495 %. La décomposition du SCR montre que le risque de souscription non-vie est le principal contributeur (264 millions d'euros), suivi du risque de marché (215 millions d'euros) et du risque de défaut (40 millions d'euros). La capacité d'absorption des impôts différés est évaluée à -108,5 millions d'euros.\\n\\n---\\n\\n### Placements\\n\\nLes placements financiers d'Aréas Dommages en 2024 atteignent une valeur de marché de 1 521,2 millions d'euros, répartis principalement entre obligations d'entreprise (855,0 millions d'euros), immobilier (421,3 millions d'euros), et fonds d'investissement (118,2 millions d'euros). Les revenus des placements ont augmenté de 30 %, passant de 37,6 millions d'euros en 2023 à 48,9 millions d'euros en 2024. Les performances des placements obligataires et immobiliers ont été particulièrement remarquables, avec des revenus respectifs de 33,5 millions d'euros (+26 %) et 5,1 millions d'euros (+23 %).\\n\\n---\\n\\n### Changement de gouvernance\\n\\nEn 2024, aucun changement significatif de gouvernance n'a été mentionné dans le rapport. Le Conseil d'administration, composé de 16 administrateurs, continue de superviser les orientations stratégiques et la gestion des risques. Plusieurs comités spécialisés, tels que le Comité d'audit et le Comité ORSA, assurent le suivi des politiques et des processus internes.\\n\\n---\\n\\n### Perspectives et projets futurs\\n\\nAréas Dommages prévoit de maintenir une stratégie prudente en matière de solvabilité et de gestion des risques. L'organisme s'engage à renforcer ses dispositifs de contrôle interne et à optimiser ses placements financiers. En parallèle, des efforts sont déployés pour améliorer la résilience numérique conformément au règlement DORA, avec un plan de mise en conformité prévu pour 2025. L'entreprise vise également à stabiliser ses ratios de solvabilité et à poursuivre son développement sur le marché français, tout en adaptant ses produits aux évolutions réglementaires et économiques.\""
      ]
     },
     "execution_count": 31,
     "metadata": {},
     "output_type": "execute_result"
    }
   ],
   "source": [
    "resultat= fiche(resultat_areas_dmg_24, gpt41)"
   ]
  },
  {
   "cell_type": "code",
   "execution_count": null,
   "id": "351d6e90",
   "metadata": {},
   "outputs": [],
   "source": [
    "save_llm_ouput_tolocal_file(resultat, \"fds_areas_dmg_41\", 1)"
   ]
  }
 ],
 "metadata": {
  "kernelspec": {
   "display_name": "fds",
   "language": "python",
   "name": "python3"
  },
  "language_info": {
   "codemirror_mode": {
    "name": "ipython",
    "version": 3
   },
   "file_extension": ".py",
   "mimetype": "text/x-python",
   "name": "python",
   "nbconvert_exporter": "python",
   "pygments_lexer": "ipython3",
   "version": "3.13.2"
  }
 },
 "nbformat": 4,
 "nbformat_minor": 5
}
